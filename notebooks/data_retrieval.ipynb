{
 "cells": [
  {
   "cell_type": "code",
   "execution_count": 5,
   "metadata": {},
   "outputs": [],
   "source": [
    "# importing libraries\n",
    "import pandas as pd \n",
    "from pytrends.request import TrendReq\n",
    "import time"
   ]
  },
  {
   "cell_type": "code",
   "execution_count": 6,
   "metadata": {},
   "outputs": [],
   "source": [
    "# Using main genre tags from the artist dataset. \n",
    "genres = ['hip hop music', 'pop music', 'r and b', 'country music', 'rock music', 'alternative music', 'kpop music', 'metal music', 'latin music', 'indie music']"
   ]
  },
  {
   "cell_type": "code",
   "execution_count": null,
   "metadata": {},
   "outputs": [],
   "source": [
    "\n",
    "# Connect to Google Trends\n",
    "pytrends = TrendReq()\n",
    "\n",
    "# Since Google Trends only lets you query 5 search terms at a time. Collecting for first 5 genres\n",
    "# Building query for the 2018– April 2025 timeframe\n",
    "pytrends.build_payload(genres[:5], timeframe='2018-01-01 2024-12-31')\n",
    "\n",
    "# Get the trend data (returns a DataFrame)\n",
    "time.sleep(300)\n",
    "trend_df1 = pytrends.interest_over_time()\n",
    "trend_df1.drop(columns= ['isPartial'], inplace= True) # I don't need this col"
   ]
  },
  {
   "cell_type": "code",
   "execution_count": null,
   "metadata": {},
   "outputs": [],
   "source": [
    "# Collecting for the last 5 genres\n",
    "# Building query for the 2018– April 2025 timeframe\n",
    "pytrends.build_payload(genres[5:], timeframe='2018-01-01 2024-12-31')\n",
    "\n",
    "# Get the trend data (returns a DataFrame)\n",
    "time.sleep(200)\n",
    "trend_df2 = pytrends.interest_over_time()\n",
    "trend_df2.drop(columns= ['isPartial'], inplace= True) # I don't need this col"
   ]
  },
  {
   "cell_type": "code",
   "execution_count": null,
   "metadata": {},
   "outputs": [],
   "source": [
    "# Merging the teo dataframes on index\n",
    "join_trend_df = trend_df1.join(trend_df2)\n",
    "\n",
    "# dropping any na values\n",
    "join_trend_df.dropna(inplace= True) \n"
   ]
  },
  {
   "cell_type": "code",
   "execution_count": null,
   "metadata": {},
   "outputs": [],
   "source": [
    "# saving as csv file\n",
    "join_trend_df.to_csv('trend_df.csv', index= True) "
   ]
  }
 ],
 "metadata": {
  "kernelspec": {
   "display_name": "Python 3",
   "language": "python",
   "name": "python3"
  },
  "language_info": {
   "codemirror_mode": {
    "name": "ipython",
    "version": 3
   },
   "file_extension": ".py",
   "mimetype": "text/x-python",
   "name": "python",
   "nbconvert_exporter": "python",
   "pygments_lexer": "ipython3",
   "version": "3.13.3"
  },
  "orig_nbformat": 4
 },
 "nbformat": 4,
 "nbformat_minor": 2
}
